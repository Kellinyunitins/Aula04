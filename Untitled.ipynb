{
 "cells": [
  {
   "cell_type": "code",
   "execution_count": 1,
   "id": "27503a7a-11c0-427e-89ff-d4be27502d5a",
   "metadata": {},
   "outputs": [
    {
     "name": "stdout",
     "output_type": "stream",
     "text": [
      "Antes de remover duplicatas:\n",
      "Lista Encadeada: 2 -> 8 -> 5 -> 2 -> 7 -> 3 -> 5 -> 3\n",
      "Após remover duplicatas:\n",
      "Lista Encadeada: 2 -> 8 -> 5 -> 7 -> 3\n"
     ]
    }
   ],
   "source": [
    "class Node:\n",
    "    def __init__(self, data):\n",
    "        self.data = data\n",
    "        self.next = None\n",
    "\n",
    "class LinkedList:\n",
    "    def __init__(self):\n",
    "        self.head = None\n",
    "    \n",
    "    def inserir(self, data):\n",
    "        new_node = Node(data)\n",
    "        new_node.next = self.head\n",
    "        self.head = new_node\n",
    "    \n",
    "    def exibir_lista(self):\n",
    "        current = self.head\n",
    "        elements = []\n",
    "        while current:\n",
    "            elements.append(current.data)\n",
    "            current = current.next\n",
    "        print(\"Lista Encadeada:\", \" -> \".join(map(str, elements)))\n",
    "    \n",
    "    def remover_duplicados(self):\n",
    "        if not self.head:\n",
    "            return\n",
    "        \n",
    "        seen = set()\n",
    "        current = self.head\n",
    "        seen.add(current.data)\n",
    "        \n",
    "        while current.next:\n",
    "            if current.next.data in seen:\n",
    "                current.next = current.next.next  \n",
    "            else:\n",
    "                seen.add(current.next.data)\n",
    "                current = current.next\n",
    "\n",
    "\n",
    "lista = LinkedList()\n",
    "valores = [3, 5, 3, 7, 2, 5, 8, 2]\n",
    "for valor in valores:\n",
    "    lista.inserir(valor)\n",
    "\n",
    "print(\"Antes de remover duplicatas:\")\n",
    "lista.exibir_lista()\n",
    "\n",
    "lista.remover_duplicados()\n",
    "print(\"Após remover duplicatas:\")\n",
    "lista.exibir_lista()\n"
   ]
  },
  {
   "cell_type": "code",
   "execution_count": null,
   "id": "71b10949-4010-497b-978d-f9fed620e9df",
   "metadata": {},
   "outputs": [],
   "source": []
  }
 ],
 "metadata": {
  "kernelspec": {
   "display_name": "Python 3 (ipykernel)",
   "language": "python",
   "name": "python3"
  },
  "language_info": {
   "codemirror_mode": {
    "name": "ipython",
    "version": 3
   },
   "file_extension": ".py",
   "mimetype": "text/x-python",
   "name": "python",
   "nbconvert_exporter": "python",
   "pygments_lexer": "ipython3",
   "version": "3.13.2"
  }
 },
 "nbformat": 4,
 "nbformat_minor": 5
}
